{
 "cells": [
  {
   "cell_type": "markdown",
   "metadata": {},
   "source": [
    "The `merkle` package contains Python code that will be used throughout this notebook.\n",
    "\n",
    "First, let us run the unittests in that package to ensure they pass."
   ]
  },
  {
   "cell_type": "code",
   "execution_count": 1,
   "metadata": {},
   "outputs": [
    {
     "name": "stderr",
     "output_type": "stream",
     "text": [
      "test_with_tree_over_eleven_leaf_nodes (merkle.tests.test_node.TestMutualParentOfSiblings) ... ok\n",
      "test_with_tree_over_five_leaf_nodes (merkle.tests.test_node.TestMutualParentOfSiblings) ... ok\n",
      "test_with_tree_over_four_leaf_nodes (merkle.tests.test_node.TestMutualParentOfSiblings) ... ok\n",
      "test_with_tree_over_eleven_leaf_nodes (merkle.tests.test_node.TestNodeReference) ... ok\n",
      "test_with_tree_over_five_leaf_nodes (merkle.tests.test_node.TestNodeReference) ... ok\n",
      "test_with_tree_over_six_leaf_nodes (merkle.tests.test_node.TestNodeReference) ... ok\n",
      "test_traversal_in_tree_over_eleven_leaf_nodes (merkle.tests.test_tree.TestTraversal) ... ok\n",
      "\n",
      "----------------------------------------------------------------------\n",
      "Ran 7 tests in 0.003s\n",
      "\n",
      "OK\n"
     ]
    },
    {
     "data": {
      "text/plain": [
       "<unittest.runner.TextTestResult run=7 errors=0 failures=0>"
      ]
     },
     "execution_count": 1,
     "metadata": {},
     "output_type": "execute_result"
    }
   ],
   "source": [
    "import unittest\n",
    "\n",
    "loader = unittest.TestLoader()\n",
    "suite = loader.discover(start_dir=\"merkle\", top_level_dir=\".\")\n",
    "runner = unittest.TextTestRunner(verbosity=2)\n",
    "runner.run(suite)\n",
    "\n",
    "# Alternatively, run the following from the command line in the directory containing the merkle package:\n",
    "# python -m unittest discover -s merkle -t . -v\n"
   ]
  },
  {
   "cell_type": "markdown",
   "metadata": {},
   "source": [
    "We can use the `anytree` Python module to construct the nodes of a Merkle tree. Make sure that you have installed `anytree` in your Python environment.\n",
    "\n",
    "In addition, we create the `generate_tree` function which will create a Merkle tree over a specified number of leaf nodes."
   ]
  },
  {
   "cell_type": "code",
   "execution_count": 2,
   "metadata": {},
   "outputs": [],
   "source": [
    "from anytree import Node, NodeMixin, RenderTree\n",
    "\n",
    "from merkle.node import *\n",
    "\n",
    "class TreeNode(NodeMixin):\n",
    "    def __init__(self, name: str, ref: NodeReference, parent=None, children=None):\n",
    "        super(TreeNode, self).__init__()\n",
    "        self.name = name\n",
    "        self.max_ordinal = ref.max_ordinal\n",
    "        self.level = ref.level\n",
    "        self.parent = parent\n",
    "        if children:\n",
    "            self.children = children\n",
    "\n",
    "    def get_reference(self) -> NodeReference:\n",
    "        return NodeReference(max_ordinal=self.max_ordinal, level=self.level)\n",
    "\n",
    "\n",
    "def generate_tree(num_leaf_nodes: PositiveInt, namer: Callable[[NodeReference], str]) -> TreeNode:\n",
    "    \"\"\"Generate tree with a specified number of leaf nodes.\n",
    "\n",
    "    Parameters:\n",
    "        num_leaf_nodes (int): Number of leaf nodes\n",
    "        namer (function NodeReference -> Any): Function to generate a name for the node referenced by argument passed to the function.\n",
    "\n",
    "    Returns:\n",
    "        The generated tree.\n",
    "\n",
    "    Precondition: num_leaf_nodes > 0\n",
    "    \"\"\"\n",
    "\n",
    "    assert(num_leaf_nodes > 0)\n",
    "\n",
    "    def generate_tree_helper(num_leaf_nodes: PositiveInt, starting_ordinal: NonnegativeInt) -> TreeNode:\n",
    "        \"\"\"\n",
    "        Precondition: num_leaf_nodes > 0\n",
    "        Precondition: starting_ordinal >= 0\n",
    "        \"\"\"\n",
    "\n",
    "        levels = log2(num_leaf_nodes)\n",
    "\n",
    "        if levels.floor == 0:\n",
    "            node_ref = NodeReference(max_ordinal=starting_ordinal, level=0)\n",
    "            return TreeNode(name=namer(node_ref), ref=node_ref)\n",
    "\n",
    "        largest_complete_tree_size = (1 << levels.floor)\n",
    "        # largest_complete_tree_size must be <= num_leaf_nodes\n",
    "\n",
    "        if largest_complete_tree_size == num_leaf_nodes:\n",
    "            left_child_size = (largest_complete_tree_size >> 1)\n",
    "        else:\n",
    "            left_child_size = largest_complete_tree_size\n",
    "\n",
    "        left_child = generate_tree_helper(left_child_size, starting_ordinal)\n",
    "\n",
    "        right_child = generate_tree_helper(\n",
    "            num_leaf_nodes - left_child_size, starting_ordinal + left_child_size)\n",
    "\n",
    "        node_ref = NodeReference(max_ordinal=(\n",
    "            starting_ordinal + num_leaf_nodes - 1), level=levels.ceil)\n",
    "        return TreeNode(name=namer(node_ref), ref=node_ref, children=[left_child, right_child])\n",
    "\n",
    "    return generate_tree_helper(num_leaf_nodes, 0)\n"
   ]
  },
  {
   "cell_type": "markdown",
   "metadata": {},
   "source": [
    "The newly defined `generate_tree` function can now be used to create an example tree `t` over 11 blocks."
   ]
  },
  {
   "cell_type": "code",
   "execution_count": 3,
   "metadata": {},
   "outputs": [
    {
     "name": "stdout",
     "output_type": "stream",
     "text": [
      "node(10,4) [\"node(10,4)\"]\n",
      "├── node(7,3) [\"node(7,3)\"]\n",
      "│   ├── node(3,2) [\"node(3,2)\"]\n",
      "│   │   ├── node(1,1) [\"node(1,1)\"]\n",
      "│   │   │   ├── node(0,0) [\"node(0,0) (aka block 1)\"]\n",
      "│   │   │   └── node(1,0) [\"node(1,0) (aka block 2)\"]\n",
      "│   │   └── node(3,1) [\"node(3,1)\"]\n",
      "│   │       ├── node(2,0) [\"node(2,0) (aka block 3)\"]\n",
      "│   │       └── node(3,0) [\"node(3,0) (aka block 4)\"]\n",
      "│   └── node(7,2) [\"node(7,2)\"]\n",
      "│       ├── node(5,1) [\"node(5,1)\"]\n",
      "│       │   ├── node(4,0) [\"node(4,0) (aka block 5)\"]\n",
      "│       │   └── node(5,0) [\"node(5,0) (aka block 6)\"]\n",
      "│       └── node(7,1) [\"node(7,1)\"]\n",
      "│           ├── node(6,0) [\"node(6,0) (aka block 7)\"]\n",
      "│           └── node(7,0) [\"node(7,0) (aka block 8)\"]\n",
      "└── node(10,2) [\"node(10,2)\"]\n",
      "    ├── node(9,1) [\"node(9,1)\"]\n",
      "    │   ├── node(8,0) [\"node(8,0) (aka block 9)\"]\n",
      "    │   └── node(9,0) [\"node(9,0) (aka block 10)\"]\n",
      "    └── node(10,0) [\"node(10,0) (aka block 11)\"]\n"
     ]
    }
   ],
   "source": [
    "t = generate_tree(\n",
    "    11, lambda r: f\"node({r.max_ordinal},{r.level}) (aka block {r.max_ordinal + 1})\" if r.level == 0 else f\"node({r.max_ordinal},{r.level})\")\n",
    "\n",
    "for pre, fill, node in RenderTree(t):\n",
    "    print(\"{}node({},{}) [\\\"{}\\\"]\".format(\n",
    "        pre, node.max_ordinal, node.level, node.name))\n"
   ]
  },
  {
   "cell_type": "markdown",
   "metadata": {},
   "source": [
    "In addition, we can automatically generate an image of the example tree.\n",
    "\n",
    "Ensure that `graphviz` is installed on your system and the `dot` program is in your `PATH`."
   ]
  },
  {
   "cell_type": "code",
   "execution_count": 4,
   "metadata": {},
   "outputs": [
    {
     "data": {
      "text/html": [
       "<img width=\"100%\" src=\"data:image/svg+xml;base64,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\">"
      ],
      "text/plain": [
       "<IPython.core.display.HTML object>"
      ]
     },
     "metadata": {},
     "output_type": "display_data"
    }
   ],
   "source": [
    "import os\n",
    "import subprocess\n",
    "import base64\n",
    "\n",
    "from anytree.exporter import DotExporter\n",
    "\n",
    "from IPython.display import display, HTML\n",
    "\n",
    "\n",
    "def svg_to_fixed_width_html_image(svg, width=\"100%\"):\n",
    "    b64 = base64.b64encode(svg).decode(\"utf=8\")\n",
    "    return HTML(f'<img width=\"{width}\" src=\"data:image/svg+xml;base64,{b64}\">')\n",
    "\n",
    "\n",
    "os.makedirs(\"build\", exist_ok=True)\n",
    "DotExporter(t).to_dotfile(\"build/tree.dot\")\n",
    "\n",
    "subprocess.run([\"dot\", \"build/tree.dot\", \"-T\", \"svg\", \"-o\", \"build/tree.svg\"])\n",
    "\n",
    "with open(\"build/tree.svg\", \"rb\") as svg_file:\n",
    "    display(svg_to_fixed_width_html_image(svg_file.read()))\n"
   ]
  },
  {
   "cell_type": "markdown",
   "metadata": {},
   "source": [
    "While the `merkle.tree` module contains a `traverse_hypothetical_tree` function which allows traversing through a hypothetical tree defined solely through the `NodeReference` of the root of the tree, we also are interested in a function that will traverse the actual Merkle tree. It follows a very similar algorithm as `traverse_hypothetical_tree`."
   ]
  },
  {
   "cell_type": "code",
   "execution_count": 5,
   "metadata": {},
   "outputs": [],
   "source": [
    "def traverse_tree_to_node(tree: TreeNode,\n",
    "                          target_node_ref: NodeReference,\n",
    "                          reducer: Callable[[TreeNode, Optional[TreeNode], Any], Any],\n",
    "                          initial_state: Any = None) -> Any:\n",
    "    \"\"\"Traverse tree from root to the specified target node.\n",
    "\n",
    "    For each node visited along the traversal, reducer is called with the third argument set the current value of the internal state.\n",
    "    For all nodes other than the root node, reducer is called with the visited node as well as its sibling.\n",
    "    For the root node, reducer is called with the visited node but the sibling argument is None (since the root has no sibling).\n",
    "\n",
    "    Parameters:\n",
    "        tree (TreeNode): Tree to traverse\n",
    "        target_node_ref (NodeReference): Reference to target node\n",
    "        reducer (function (TreeNode, Optional[TreeNode], Any) -> Any): \n",
    "            Function to call for each node visited along traversal.\n",
    "            Function called with node visited, its sibling node, and the current value of the internal state.\n",
    "            Function is expected to return the next value of the internal state.\n",
    "        initial_state (Any): Initial value of the internal state before reducer is called for the first time.\n",
    "\n",
    "    Returns:\n",
    "        Value of the internal state after visiting all nodes in the traversal.\n",
    "\n",
    "    Precondition: target_node_ref is a valid reference to a node within the tree\n",
    "    \"\"\"\n",
    "\n",
    "    assert(tree_contains_node(tree.get_reference(), target_node_ref))\n",
    "\n",
    "    num_bits: PositiveInt = log2(tree.max_ordinal).floor + 1\n",
    "    bit_seq = [Bit(bit) for bit in \"{:0{size}b}\".format(\n",
    "        target_node_ref.max_ordinal, size=num_bits)]\n",
    "\n",
    "    bit_seq_iter = iter(bit_seq)\n",
    "\n",
    "    cur_node: TreeNode = tree\n",
    "    internal_state: Any = reducer(cur_node, None, initial_state)\n",
    "\n",
    "    if cur_node.level <= target_node_ref.level:\n",
    "        assert(cur_node.level == target_node_ref.level)\n",
    "        assert(cur_node.max_ordinal == target_node_ref.max_ordinal)\n",
    "        return internal_state\n",
    "\n",
    "    maybe_bit: Optional[Bit] = next(bit_seq_iter, None)\n",
    "\n",
    "    while maybe_bit != None:\n",
    "        next_node: TreeNode = cur_node.children[maybe_bit]\n",
    "        next_sibling_node: TreeNode = cur_node.children[int(\n",
    "            not bool(maybe_bit))]\n",
    "\n",
    "        for i in range(cur_node.level, next_node.level, -1):\n",
    "            maybe_bit = next(bit_seq_iter, None)\n",
    "\n",
    "        cur_node = next_node\n",
    "        sibling_node = next_sibling_node\n",
    "\n",
    "        internal_state = reducer(cur_node, sibling_node, internal_state)\n",
    "\n",
    "        if cur_node.level <= target_node_ref.level:\n",
    "            assert(cur_node.level == target_node_ref.level)\n",
    "            assert(cur_node.max_ordinal == target_node_ref.max_ordinal)\n",
    "            break\n",
    "\n",
    "    return internal_state\n"
   ]
  },
  {
   "cell_type": "markdown",
   "metadata": {},
   "source": [
    "We can now use the `traverse_tree_to_node` function to traverse from the root of our example tree `t` to its leaf node referenced by `NodeReference(5, 0)`."
   ]
  },
  {
   "cell_type": "code",
   "execution_count": 6,
   "metadata": {},
   "outputs": [
    {
     "name": "stdout",
     "output_type": "stream",
     "text": [
      "Visiting root node(10,4) [\"node(10,4)\"]\n",
      "Visiting node(7,3) [\"node(7,3)\"] with sibling node(10,2) [\"node(10,2)\"]\n",
      "Visiting node(7,2) [\"node(7,2)\"] with sibling node(3,2) [\"node(3,2)\"]\n",
      "Visiting node(5,1) [\"node(5,1)\"] with sibling node(7,1) [\"node(7,1)\"]\n",
      "Visiting node(5,0) [\"node(5,0) (aka block 6)\"] with sibling node(4,0) [\"node(4,0) (aka block 5)\"]\n"
     ]
    }
   ],
   "source": [
    "def print_node(node: TreeNode, sibling: Optional[TreeNode], state: Any) -> None:\n",
    "    if sibling == None:\n",
    "        print(\"Visiting root node({node.max_ordinal},{node.level}) [\\\"{node.name}\\\"]\".format(\n",
    "            node=node))\n",
    "    else:\n",
    "        print(\"Visiting node({node.max_ordinal},{node.level}) [\\\"{node.name}\\\"] with sibling node({sibling.max_ordinal},{sibling.level}) [\\\"{sibling.name}\\\"]\".format(\n",
    "            node=node, sibling=sibling))\n",
    "\n",
    "\n",
    "traverse_tree_to_node(t, NodeReference(5, 0), print_node)"
   ]
  },
  {
   "cell_type": "markdown",
   "metadata": {},
   "source": [
    "Importing the functions from the `merkle.tree` module also allows access to generating Merkle branch proof templates from hypothetical Merkle trees. That is the first step in the process of generating an actual Merkle branch proof including the cryptographic digests of the witness nodes.\n",
    "\n",
    "The following is an example of the branch proof template generated for the 6th leaf node within a Merkle tree over 11 leaf nodes."
   ]
  },
  {
   "cell_type": "code",
   "execution_count": 7,
   "metadata": {},
   "outputs": [
    {
     "name": "stdout",
     "output_type": "stream",
     "text": [
      "{'root': NodeReference(max_ordinal=10, level=4),\n",
      " 'target': NodeReference(max_ordinal=5, level=0),\n",
      " 'witnesses': [NodeReference(max_ordinal=4, level=0),\n",
      "               NodeReference(max_ordinal=7, level=1),\n",
      "               NodeReference(max_ordinal=3, level=2),\n",
      "               NodeReference(max_ordinal=10, level=2)]}\n"
     ]
    }
   ],
   "source": [
    "from pprint import pprint\n",
    "\n",
    "from merkle.tree import *\n",
    "\n",
    "my_proof_template = generate_branch_proof(tree_root_ref=NodeReference(10, 4), target_node_ref=NodeReference(5, 0))\n",
    "pprint(my_proof_template.__dict__)\n"
   ]
  },
  {
   "cell_type": "markdown",
   "metadata": {},
   "source": [
    "The `verify_proof` function does not actually compute any cryptographic digests. It just verifies that the node references provided for the witnesses in the branch proof template are the appropriate ones to allow proving that the target node exists in the tree with the specified root."
   ]
  },
  {
   "cell_type": "code",
   "execution_count": 8,
   "metadata": {},
   "outputs": [
    {
     "data": {
      "text/plain": [
       "True"
      ]
     },
     "execution_count": 8,
     "metadata": {},
     "output_type": "execute_result"
    }
   ],
   "source": [
    "verify_proof(my_proof_template)\n"
   ]
  },
  {
   "cell_type": "markdown",
   "metadata": {},
   "source": [
    "Finally, the `lookup_nodes` function can take the branch proof template and generate a dictionary that lays out the exact strategy of where to find the appropriate cryptographic digests of the witness nodes needed to construct the actual Merkle branch proof."
   ]
  },
  {
   "cell_type": "code",
   "execution_count": 9,
   "metadata": {},
   "outputs": [
    {
     "name": "stdout",
     "output_type": "stream",
     "text": [
      "{NodeReference(max_ordinal=4, level=3): [NodeReference(max_ordinal=4, level=0)],\n",
      " NodeReference(max_ordinal=5, level=3): [NodeReference(max_ordinal=5, level=0)],\n",
      " NodeReference(max_ordinal=6, level=3): [NodeReference(max_ordinal=3, level=2)],\n",
      " NodeReference(max_ordinal=7, level=3): [NodeReference(max_ordinal=7, level=1)],\n",
      " NodeReference(max_ordinal=10, level=4): [NodeReference(max_ordinal=10, level=4),\n",
      "                                          NodeReference(max_ordinal=10, level=2)]}\n"
     ]
    }
   ],
   "source": [
    "my_proof_generation_strategy = lookup_nodes(my_proof_template)\n",
    "pprint(my_proof_generation_strategy)\n"
   ]
  }
 ],
 "metadata": {
  "kernelspec": {
   "display_name": "Python 3.9.12 ('python_env')",
   "language": "python",
   "name": "python3"
  },
  "language_info": {
   "codemirror_mode": {
    "name": "ipython",
    "version": 3
   },
   "file_extension": ".py",
   "mimetype": "text/x-python",
   "name": "python",
   "nbconvert_exporter": "python",
   "pygments_lexer": "ipython3",
   "version": "3.9.12"
  },
  "orig_nbformat": 4,
  "vscode": {
   "interpreter": {
    "hash": "a18510110c7699e5c902524c45c6e13829c7e06ab4e837bce7faf7c9e461252a"
   }
  }
 },
 "nbformat": 4,
 "nbformat_minor": 2
}
