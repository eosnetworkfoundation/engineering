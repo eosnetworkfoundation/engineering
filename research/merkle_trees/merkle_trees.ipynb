{
 "cells": [
  {
   "cell_type": "markdown",
   "metadata": {},
   "source": [
    "The `merkle` package contains Python code that will be used throughout this notebook.\n",
    "\n",
    "First, let us run the unittests in that package to ensure they pass."
   ]
  },
  {
   "cell_type": "code",
   "execution_count": 1,
   "metadata": {},
   "outputs": [
    {
     "name": "stdout",
     "output_type": "stream",
     "text": [
      "test_with_tree_over_eleven_leaf_nodes (merkle.tests.test_node.TestMutualParentOfSiblings) ... ok\n",
      "test_with_tree_over_five_leaf_nodes (merkle.tests.test_node.TestMutualParentOfSiblings) ... ok\n",
      "test_with_tree_over_four_leaf_nodes (merkle.tests.test_node.TestMutualParentOfSiblings) ... ok\n",
      "test_with_tree_over_eleven_leaf_nodes (merkle.tests.test_node.TestNodeReference) ... ok\n",
      "test_with_tree_over_five_leaf_nodes (merkle.tests.test_node.TestNodeReference) ... ok\n",
      "test_with_tree_over_six_leaf_nodes (merkle.tests.test_node.TestNodeReference) ... ok\n",
      "test_traversal_in_tree_over_eleven_leaf_nodes (merkle.tests.test_tree.TestTraversal) ... ok\n",
      "\n",
      "----------------------------------------------------------------------\n",
      "Ran 7 tests\n",
      "\n",
      "OK\n",
      "\n"
     ]
    }
   ],
   "source": [
    "import unittest\n",
    "import io\n",
    "import re\n",
    "\n",
    "loader = unittest.TestLoader()\n",
    "suite = loader.discover(start_dir=\"merkle\", top_level_dir=\".\")\n",
    "test_output = io.StringIO()\n",
    "runner = unittest.TextTestRunner(stream=test_output, verbosity=2)\n",
    "runner.run(suite)\n",
    "print(re.sub(r'Ran (\\d+) tests in (\\d+(\\.\\d*)?)s', r'Ran \\1 tests', test_output.getvalue()))\n",
    "\n",
    "\n",
    "# Alternatively, run the following from the command line in the directory containing the merkle package:\n",
    "# python -m unittest discover -s merkle -t . -v\n"
   ]
  },
  {
   "cell_type": "markdown",
   "metadata": {},
   "source": [
    "We can use the `anytree` Python module to construct the nodes of a Merkle tree. Make sure that you have installed `anytree` in your Python environment.\n",
    "\n",
    "In addition, we create the `generate_tree` function which will create a Merkle tree over a specified number of leaf nodes."
   ]
  },
  {
   "cell_type": "code",
   "execution_count": 2,
   "metadata": {},
   "outputs": [],
   "source": [
    "from anytree import Node, NodeMixin, RenderTree\n",
    "\n",
    "from merkle.node import *\n",
    "\n",
    "\n",
    "class TreeNode(NodeMixin):\n",
    "    def __init__(self, name: str, ref: NodeReference, parent=None, children=None):\n",
    "        super(TreeNode, self).__init__()\n",
    "        self.name = name\n",
    "        self.max_ordinal = ref.max_ordinal\n",
    "        self.level = ref.level\n",
    "        self.parent = parent\n",
    "        if children:\n",
    "            self.children = children\n",
    "\n",
    "    def get_reference(self) -> NodeReference:\n",
    "        return NodeReference(max_ordinal=self.max_ordinal, level=self.level)\n",
    "\n",
    "\n",
    "def generate_tree(num_leaf_nodes: PositiveInt, namer: Callable[[NodeReference], str]) -> TreeNode:\n",
    "    \"\"\"Generate tree with a specified number of leaf nodes.\n",
    "\n",
    "    Parameters:\n",
    "        num_leaf_nodes (int): Number of leaf nodes\n",
    "        namer (function NodeReference -> Any): Function to generate a name for the node referenced by argument passed to the function.\n",
    "\n",
    "    Returns:\n",
    "        The generated tree.\n",
    "\n",
    "    Precondition: num_leaf_nodes > 0\n",
    "    \"\"\"\n",
    "\n",
    "    assert(num_leaf_nodes > 0)\n",
    "\n",
    "    def generate_tree_helper(num_leaf_nodes: PositiveInt, starting_ordinal: NonnegativeInt) -> TreeNode:\n",
    "        \"\"\"\n",
    "        Precondition: num_leaf_nodes > 0\n",
    "        Precondition: starting_ordinal >= 0\n",
    "        \"\"\"\n",
    "\n",
    "        levels = log2(num_leaf_nodes)\n",
    "\n",
    "        if levels.floor == 0:\n",
    "            node_ref = NodeReference(max_ordinal=starting_ordinal, level=0)\n",
    "            return TreeNode(name=namer(node_ref), ref=node_ref)\n",
    "\n",
    "        largest_complete_tree_size = (1 << levels.floor)\n",
    "        # largest_complete_tree_size must be <= num_leaf_nodes\n",
    "\n",
    "        if largest_complete_tree_size == num_leaf_nodes:\n",
    "            left_child_size = (largest_complete_tree_size >> 1)\n",
    "        else:\n",
    "            left_child_size = largest_complete_tree_size\n",
    "\n",
    "        left_child = generate_tree_helper(left_child_size, starting_ordinal)\n",
    "\n",
    "        right_child = generate_tree_helper(\n",
    "            num_leaf_nodes - left_child_size, starting_ordinal + left_child_size)\n",
    "\n",
    "        node_ref = NodeReference(max_ordinal=(\n",
    "            starting_ordinal + num_leaf_nodes - 1), level=levels.ceil)\n",
    "        return TreeNode(name=namer(node_ref), ref=node_ref, children=[left_child, right_child])\n",
    "\n",
    "    return generate_tree_helper(num_leaf_nodes, 0)\n"
   ]
  },
  {
   "cell_type": "markdown",
   "metadata": {},
   "source": [
    "The newly defined `generate_tree` function can now be used to create an example tree `t` over 11 blocks."
   ]
  },
  {
   "cell_type": "code",
   "execution_count": 3,
   "metadata": {},
   "outputs": [
    {
     "name": "stdout",
     "output_type": "stream",
     "text": [
      "node(10,4) [\"node(10,4)\"]\n",
      "├── node(7,3) [\"node(7,3)\"]\n",
      "│   ├── node(3,2) [\"node(3,2)\"]\n",
      "│   │   ├── node(1,1) [\"node(1,1)\"]\n",
      "│   │   │   ├── node(0,0) [\"node(0,0) (aka block 1)\"]\n",
      "│   │   │   └── node(1,0) [\"node(1,0) (aka block 2)\"]\n",
      "│   │   └── node(3,1) [\"node(3,1)\"]\n",
      "│   │       ├── node(2,0) [\"node(2,0) (aka block 3)\"]\n",
      "│   │       └── node(3,0) [\"node(3,0) (aka block 4)\"]\n",
      "│   └── node(7,2) [\"node(7,2)\"]\n",
      "│       ├── node(5,1) [\"node(5,1)\"]\n",
      "│       │   ├── node(4,0) [\"node(4,0) (aka block 5)\"]\n",
      "│       │   └── node(5,0) [\"node(5,0) (aka block 6)\"]\n",
      "│       └── node(7,1) [\"node(7,1)\"]\n",
      "│           ├── node(6,0) [\"node(6,0) (aka block 7)\"]\n",
      "│           └── node(7,0) [\"node(7,0) (aka block 8)\"]\n",
      "└── node(10,2) [\"node(10,2)\"]\n",
      "    ├── node(9,1) [\"node(9,1)\"]\n",
      "    │   ├── node(8,0) [\"node(8,0) (aka block 9)\"]\n",
      "    │   └── node(9,0) [\"node(9,0) (aka block 10)\"]\n",
      "    └── node(10,0) [\"node(10,0) (aka block 11)\"]\n"
     ]
    }
   ],
   "source": [
    "t = generate_tree(\n",
    "    11, lambda r: f\"node({r.max_ordinal},{r.level}) (aka block {r.max_ordinal + 1})\" if r.level == 0\n",
    "                  else f\"node({r.max_ordinal},{r.level})\")\n",
    "\n",
    "for pre, fill, node in RenderTree(t):\n",
    "    print(\"{}node({},{}) [\\\"{}\\\"]\".format(\n",
    "        pre, node.max_ordinal, node.level, node.name))\n"
   ]
  },
  {
   "cell_type": "markdown",
   "metadata": {},
   "source": [
    "In addition, we can automatically generate an image of the example tree.\n",
    "\n",
    "Ensure that `graphviz` is installed on your system and the `dot` program is in your `PATH`."
   ]
  },
  {
   "cell_type": "code",
   "execution_count": 4,
   "metadata": {},
   "outputs": [
    {
     "data": {
      "text/html": [
       "<img width=\"100%\" src=\"build/tree.svg\">"
      ],
      "text/plain": [
       "<IPython.core.display.HTML object>"
      ]
     },
     "metadata": {},
     "output_type": "display_data"
    }
   ],
   "source": [
    "import os\n",
    "import subprocess\n",
    "\n",
    "from anytree.exporter import DotExporter\n",
    "\n",
    "from IPython.display import display, HTML\n",
    "\n",
    "\n",
    "def svg_to_fixed_width_html_image(svg_path, width=\"100%\"):\n",
    "    return HTML(f'<img width=\"{width}\" src=\"{svg_path}\">')\n",
    "\n",
    "\n",
    "os.makedirs(\"build\", exist_ok=True)\n",
    "DotExporter(t).to_dotfile(\"build/tree.dot\")\n",
    "\n",
    "subprocess.run([\"dot\", \"build/tree.dot\", \"-T\", \"svg\", \"-o\", \"build/tree.svg\"])\n",
    "\n",
    "display(svg_to_fixed_width_html_image(\"build/tree.svg\"))\n"
   ]
  },
  {
   "cell_type": "markdown",
   "metadata": {},
   "source": [
    "While the `merkle.tree` module contains a `traverse_hypothetical_tree` function which allows traversing through a hypothetical tree defined solely through the `NodeReference` of the root of the tree, we also are interested in a function that will traverse the actual Merkle tree. It follows a very similar algorithm as `traverse_hypothetical_tree`."
   ]
  },
  {
   "cell_type": "code",
   "execution_count": 5,
   "metadata": {},
   "outputs": [],
   "source": [
    "def traverse_tree_to_node(tree: TreeNode,\n",
    "                          target_node_ref: NodeReference,\n",
    "                          reducer: Callable[[TreeNode, Optional[TreeNode], Any], Any],\n",
    "                          initial_state: Any = None) -> Any:\n",
    "    \"\"\"Traverse tree from root to the specified target node.\n",
    "\n",
    "    For each node visited along the traversal, reducer is called with the third argument set the current value of the internal state.\n",
    "    For all nodes other than the root node, reducer is called with the visited node as well as its sibling.\n",
    "    For the root node, reducer is called with the visited node but the sibling argument is None (since the root has no sibling).\n",
    "\n",
    "    Parameters:\n",
    "        tree (TreeNode): Tree to traverse\n",
    "        target_node_ref (NodeReference): Reference to target node\n",
    "        reducer (function (TreeNode, Optional[TreeNode], Any) -> Any): \n",
    "            Function to call for each node visited along traversal.\n",
    "            Function called with node visited, its sibling node, and the current value of the internal state.\n",
    "            Function is expected to return the next value of the internal state.\n",
    "        initial_state (Any): Initial value of the internal state before reducer is called for the first time.\n",
    "\n",
    "    Returns:\n",
    "        Value of the internal state after visiting all nodes in the traversal.\n",
    "\n",
    "    Precondition: target_node_ref is a valid reference to a node within the tree\n",
    "    \"\"\"\n",
    "\n",
    "    assert(tree_contains_node(tree.get_reference(), target_node_ref))\n",
    "\n",
    "    num_bits: PositiveInt = log2(tree.max_ordinal).floor + 1\n",
    "    bit_seq = [Bit(bit) for bit in \"{:0{size}b}\".format(\n",
    "        target_node_ref.max_ordinal, size=num_bits)]\n",
    "\n",
    "    bit_seq_iter = iter(bit_seq)\n",
    "\n",
    "    cur_node: TreeNode = tree\n",
    "    internal_state: Any = reducer(cur_node, None, initial_state)\n",
    "\n",
    "    if cur_node.level <= target_node_ref.level:\n",
    "        assert(cur_node.level == target_node_ref.level)\n",
    "        assert(cur_node.max_ordinal == target_node_ref.max_ordinal)\n",
    "        return internal_state\n",
    "\n",
    "    maybe_bit: Optional[Bit] = next(bit_seq_iter, None)\n",
    "\n",
    "    while maybe_bit != None:\n",
    "        next_node: TreeNode = cur_node.children[maybe_bit]\n",
    "        next_sibling_node: TreeNode = cur_node.children[int(\n",
    "            not bool(maybe_bit))]\n",
    "\n",
    "        for i in range(cur_node.level, next_node.level, -1):\n",
    "            maybe_bit = next(bit_seq_iter, None)\n",
    "\n",
    "        cur_node = next_node\n",
    "        sibling_node = next_sibling_node\n",
    "\n",
    "        internal_state = reducer(cur_node, sibling_node, internal_state)\n",
    "\n",
    "        if cur_node.level <= target_node_ref.level:\n",
    "            assert(cur_node.level == target_node_ref.level)\n",
    "            assert(cur_node.max_ordinal == target_node_ref.max_ordinal)\n",
    "            break\n",
    "\n",
    "    return internal_state\n"
   ]
  },
  {
   "cell_type": "markdown",
   "metadata": {},
   "source": [
    "We can now use the `traverse_tree_to_node` function to traverse from the root of our example tree `t` to its leaf node referenced by `NodeReference(5, 0)`."
   ]
  },
  {
   "cell_type": "code",
   "execution_count": 6,
   "metadata": {},
   "outputs": [
    {
     "name": "stdout",
     "output_type": "stream",
     "text": [
      "Visiting root node(10,4) [\"node(10,4)\"]\n",
      "Visiting node(7,3) [\"node(7,3)\"] with sibling node(10,2) [\"node(10,2)\"]\n",
      "Visiting node(7,2) [\"node(7,2)\"] with sibling node(3,2) [\"node(3,2)\"]\n",
      "Visiting node(5,1) [\"node(5,1)\"] with sibling node(7,1) [\"node(7,1)\"]\n",
      "Visiting node(5,0) [\"node(5,0) (aka block 6)\"] with sibling node(4,0) [\"node(4,0) (aka block 5)\"]\n"
     ]
    }
   ],
   "source": [
    "def print_node(node: TreeNode, sibling: Optional[TreeNode], state: Any) -> None:\n",
    "    if sibling == None:\n",
    "        print(\"Visiting root node({node.max_ordinal},{node.level}) [\\\"{node.name}\\\"]\".format(\n",
    "            node=node))\n",
    "    else:\n",
    "        print(\"Visiting node({node.max_ordinal},{node.level}) [\\\"{node.name}\\\"] with \"\n",
    "              \"sibling node({sibling.max_ordinal},{sibling.level}) [\\\"{sibling.name}\\\"]\".format(\n",
    "                  node=node, sibling=sibling))\n",
    "\n",
    "\n",
    "traverse_tree_to_node(t, NodeReference(5, 0), print_node)\n"
   ]
  },
  {
   "cell_type": "markdown",
   "metadata": {},
   "source": [
    "Importing the functions from the `merkle.tree` module also allows access to generating Merkle branch proof templates from hypothetical Merkle trees. That is the first step in the process of generating an actual Merkle branch proof including the cryptographic digests of the witness nodes.\n",
    "\n",
    "The following is an example of the branch proof template generated for the 6th leaf node within a Merkle tree over 11 leaf nodes."
   ]
  },
  {
   "cell_type": "code",
   "execution_count": 7,
   "metadata": {},
   "outputs": [
    {
     "name": "stdout",
     "output_type": "stream",
     "text": [
      "{'root': NodeReference(max_ordinal=10, level=4),\n",
      " 'target': NodeReference(max_ordinal=5, level=0),\n",
      " 'witnesses': [NodeReference(max_ordinal=4, level=0),\n",
      "               NodeReference(max_ordinal=7, level=1),\n",
      "               NodeReference(max_ordinal=3, level=2),\n",
      "               NodeReference(max_ordinal=10, level=2)]}\n"
     ]
    }
   ],
   "source": [
    "from pprint import pprint\n",
    "\n",
    "from merkle.tree import *\n",
    "\n",
    "my_proof_template = generate_branch_proof(tree_root_ref=NodeReference(10, 4), target_node_ref=NodeReference(5, 0))\n",
    "pprint(my_proof_template.__dict__)\n"
   ]
  },
  {
   "cell_type": "markdown",
   "metadata": {},
   "source": [
    "The `verify_proof` function does not actually compute any cryptographic digests. It just verifies that the node references provided for the witnesses in the branch proof template are the appropriate ones to allow proving that the target node exists in the tree with the specified root."
   ]
  },
  {
   "cell_type": "code",
   "execution_count": 8,
   "metadata": {},
   "outputs": [
    {
     "data": {
      "text/plain": [
       "True"
      ]
     },
     "execution_count": 8,
     "metadata": {},
     "output_type": "execute_result"
    }
   ],
   "source": [
    "verify_proof(my_proof_template)\n"
   ]
  },
  {
   "cell_type": "markdown",
   "metadata": {},
   "source": [
    "Finally, the `lookup_nodes` function can take the branch proof template and generate a dictionary that lays out the exact strategy of where to find the appropriate cryptographic digests of the witness nodes needed to construct the actual Merkle branch proof."
   ]
  },
  {
   "cell_type": "code",
   "execution_count": 9,
   "metadata": {},
   "outputs": [
    {
     "name": "stdout",
     "output_type": "stream",
     "text": [
      "{NodeReference(max_ordinal=4, level=3): [NodeReference(max_ordinal=4, level=0)],\n",
      " NodeReference(max_ordinal=5, level=3): [NodeReference(max_ordinal=5, level=0)],\n",
      " NodeReference(max_ordinal=6, level=3): [NodeReference(max_ordinal=3, level=2)],\n",
      " NodeReference(max_ordinal=7, level=3): [NodeReference(max_ordinal=7, level=1)],\n",
      " NodeReference(max_ordinal=10, level=4): [NodeReference(max_ordinal=10, level=4),\n",
      "                                          NodeReference(max_ordinal=10, level=2)]}\n"
     ]
    }
   ],
   "source": [
    "my_proof_generation_strategy = lookup_nodes(my_proof_template)\n",
    "pprint(my_proof_generation_strategy)\n"
   ]
  }
 ],
 "metadata": {
  "kernelspec": {
   "display_name": "Python 3.9.12 ('python_env')",
   "language": "python",
   "name": "python3"
  },
  "language_info": {
   "codemirror_mode": {
    "name": "ipython",
    "version": 3
   },
   "file_extension": ".py",
   "mimetype": "text/x-python",
   "name": "python",
   "nbconvert_exporter": "python",
   "pygments_lexer": "ipython3",
   "version": "3.9.12"
  },
  "orig_nbformat": 4,
  "vscode": {
   "interpreter": {
    "hash": "a18510110c7699e5c902524c45c6e13829c7e06ab4e837bce7faf7c9e461252a"
   }
  }
 },
 "nbformat": 4,
 "nbformat_minor": 2
}
